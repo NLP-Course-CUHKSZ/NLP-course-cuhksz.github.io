{
 "cells": [
  {
   "cell_type": "code",
   "execution_count": null,
   "id": "bdeaf960-8b67-4ab3-a02d-515acc453eaa",
   "metadata": {},
   "outputs": [],
   "source": [
    "import torch"
   ]
  },
  {
   "cell_type": "markdown",
   "id": "1e65a067-ec91-47ea-bad7-b6f05627ad49",
   "metadata": {},
   "source": [
    "# Naive Implementation of Feed Forward Layers"
   ]
  },
  {
   "cell_type": "markdown",
   "id": "7949f8ed-7d4a-4e6b-b533-e6dad1d5b99d",
   "metadata": {},
   "source": [
    "## Neural Network"
   ]
  },
  {
   "cell_type": "code",
   "execution_count": null,
   "id": "1c05c11a-d4d6-4188-8acf-3fa55d7ab3b8",
   "metadata": {},
   "outputs": [],
   "source": [
    "# dimension\n",
    "D = 3\n",
    "K = 5"
   ]
  },
  {
   "cell_type": "code",
   "execution_count": null,
   "id": "b6261a0c-b50a-45c3-9a18-f862ac0787ab",
   "metadata": {},
   "outputs": [],
   "source": [
    "# specify the parameters of the neural network\n",
    "## the first layer\n",
    "W1 = torch.randn((K, D), requires_grad=True)\n",
    "b1 = torch.randn((K, 1), requires_grad=True)"
   ]
  },
  {
   "cell_type": "code",
   "execution_count": null,
   "id": "5eba0ee0-4ba3-4e96-ad85-258042428890",
   "metadata": {},
   "outputs": [],
   "source": [
    "print(W1)"
   ]
  },
  {
   "cell_type": "code",
   "execution_count": null,
   "id": "16842730-d4c1-4759-a517-4ca1c9066c28",
   "metadata": {},
   "outputs": [],
   "source": [
    "print(b1)"
   ]
  },
  {
   "cell_type": "code",
   "execution_count": null,
   "id": "2f11de54-1739-48c6-a510-0f74fc3a2c0f",
   "metadata": {},
   "outputs": [],
   "source": [
    "## the second layer\n",
    "W2 = torch.randn((K, K), requires_grad=True)\n",
    "b2 = torch.randn((K, 1), requires_grad=True)"
   ]
  },
  {
   "cell_type": "code",
   "execution_count": null,
   "id": "3c62cd3a-dca9-4597-9c11-d96b7e735fbf",
   "metadata": {},
   "outputs": [],
   "source": [
    "## the third layer\n",
    "W3 = torch.randn((K, K), requires_grad=True)\n",
    "b3 = torch.randn((K, 1), requires_grad=True)"
   ]
  },
  {
   "cell_type": "code",
   "execution_count": null,
   "id": "e9ca883a-7ee7-4c4b-af21-b7769fd8da2c",
   "metadata": {},
   "outputs": [],
   "source": [
    "## the last layer\n",
    "W4 = torch.randn((1, K), requires_grad=True)\n",
    "b4 = torch.randn((1,), requires_grad=True)"
   ]
  },
  {
   "cell_type": "code",
   "execution_count": null,
   "id": "447452c3-a1bb-4714-acfe-798d02c6deee",
   "metadata": {},
   "outputs": [],
   "source": []
  },
  {
   "cell_type": "code",
   "execution_count": null,
   "id": "e5244613-2303-4c63-a97d-7c9bc93f1ce6",
   "metadata": {},
   "outputs": [],
   "source": [
    "def sigmoid(x):\n",
    "    return 1 / (1 + torch.exp(-x))"
   ]
  },
  {
   "cell_type": "code",
   "execution_count": null,
   "id": "ffe62e43-3a31-4c1e-83b5-d4b83880f2f9",
   "metadata": {},
   "outputs": [],
   "source": []
  },
  {
   "cell_type": "markdown",
   "id": "81e5c490-de01-4a5e-9d04-d6a2b43f1199",
   "metadata": {},
   "source": [
    "## Forward"
   ]
  },
  {
   "cell_type": "code",
   "execution_count": null,
   "id": "c0b00d38-6a85-477e-b473-7877f8ec3c55",
   "metadata": {},
   "outputs": [],
   "source": [
    "# input\n",
    "x = torch.randn((D, 1), requires_grad=True)\n",
    "\n",
    "# ground truth\n",
    "y_ground = torch.randn((1,))"
   ]
  },
  {
   "cell_type": "code",
   "execution_count": null,
   "id": "524082e6-15ce-40f2-82bb-4e0d69258c2c",
   "metadata": {},
   "outputs": [],
   "source": [
    "# forward\n",
    "## the first layer\n",
    "z1 = torch.matmul(W1, x) + b1\n",
    "a1 = sigmoid(z1)\n",
    "\n",
    "print(a1)"
   ]
  },
  {
   "cell_type": "code",
   "execution_count": null,
   "id": "cf94a652-8e6f-4eee-befc-df50a1f31204",
   "metadata": {},
   "outputs": [],
   "source": [
    "## the second layer\n",
    "z2 = torch.matmul(W2, a1) + b2\n",
    "a2 = sigmoid(z2)\n",
    "\n",
    "print(a2)"
   ]
  },
  {
   "cell_type": "code",
   "execution_count": null,
   "id": "994a463d-1059-4fd3-939d-3e563c381252",
   "metadata": {},
   "outputs": [],
   "source": [
    "## the third layer\n",
    "z3 = torch.matmul(W3, a2) + b3\n",
    "a3 = sigmoid(z3)\n",
    "\n",
    "print(a3)"
   ]
  },
  {
   "cell_type": "code",
   "execution_count": null,
   "id": "881c96f0-631d-4003-8ce4-97aa391eccc5",
   "metadata": {},
   "outputs": [],
   "source": [
    "## the last layer\n",
    "z4 = torch.matmul(W4, a3) + b4\n",
    "y_pred = sigmoid(z4)\n",
    "\n",
    "print(y_pred)"
   ]
  },
  {
   "cell_type": "code",
   "execution_count": null,
   "id": "bbee4cca-3d6c-47e0-a266-32f0b2b5b347",
   "metadata": {},
   "outputs": [],
   "source": []
  },
  {
   "cell_type": "code",
   "execution_count": null,
   "id": "aeb70e8c-cba1-4d5b-9d7c-ec2432b95ec2",
   "metadata": {},
   "outputs": [],
   "source": [
    "# calculate the loss\n",
    "J = (y_pred - y_ground) ** 2\n",
    "print(J)"
   ]
  },
  {
   "cell_type": "code",
   "execution_count": null,
   "id": "5874aff7-39e1-4dd9-8383-4b63e04fb070",
   "metadata": {},
   "outputs": [],
   "source": []
  },
  {
   "cell_type": "markdown",
   "id": "9fb06098-20ca-4328-9359-dede09c96ef3",
   "metadata": {},
   "source": [
    "## Backward"
   ]
  },
  {
   "cell_type": "code",
   "execution_count": null,
   "id": "b52ecc7b-0aa3-4ff0-81a8-cbf5d9498e08",
   "metadata": {},
   "outputs": [],
   "source": [
    "print('the gradient of W2:')\n",
    "print(W2.grad)\n",
    "print('the gradient of b2:')\n",
    "print(b2.grad)"
   ]
  },
  {
   "cell_type": "code",
   "execution_count": null,
   "id": "3e577d2c-402f-402c-937c-eaed1d59eefe",
   "metadata": {},
   "outputs": [],
   "source": [
    "# backward\n",
    "J.backward()"
   ]
  },
  {
   "cell_type": "code",
   "execution_count": null,
   "id": "918dc852-570b-471e-91a1-ae9b50676ac5",
   "metadata": {},
   "outputs": [],
   "source": [
    "print('the gradient of W2:')\n",
    "print(W2.grad)\n",
    "print('the gradient of b2:')\n",
    "print(b2.grad)"
   ]
  },
  {
   "cell_type": "code",
   "execution_count": null,
   "id": "217ed772-b25b-4c21-8824-34b8426b9a97",
   "metadata": {},
   "outputs": [],
   "source": []
  },
  {
   "cell_type": "markdown",
   "id": "fdc02648-414a-4665-b4df-626be5959ff3",
   "metadata": {},
   "source": [
    "## Update the Parameter"
   ]
  },
  {
   "cell_type": "markdown",
   "id": "13aed013-eff9-49d5-b0c1-7637b70aea75",
   "metadata": {},
   "source": [
    "W <- W - lr * W_gradient"
   ]
  },
  {
   "cell_type": "code",
   "execution_count": null,
   "id": "9b48e797-bb4b-4af4-a232-7f77cab29f45",
   "metadata": {},
   "outputs": [],
   "source": [
    "lr = 0.1"
   ]
  },
  {
   "cell_type": "code",
   "execution_count": null,
   "id": "2549cc09-2296-498d-aefc-4be8ad476bc4",
   "metadata": {},
   "outputs": [],
   "source": [
    "print('the weight of W2 before updation:')\n",
    "print(W2)"
   ]
  },
  {
   "cell_type": "code",
   "execution_count": null,
   "id": "0949e3a1-1794-42ee-b557-9781cdb8ad06",
   "metadata": {},
   "outputs": [],
   "source": [
    "expected_new_W2 = W2 - lr * W2.grad\n",
    "print(expected_new_W2)"
   ]
  },
  {
   "cell_type": "code",
   "execution_count": null,
   "id": "fae37f78-c872-44f0-8e60-8be7f3c2e7b8",
   "metadata": {},
   "outputs": [],
   "source": []
  },
  {
   "cell_type": "code",
   "execution_count": null,
   "id": "d60458af-7aa7-487d-a9c5-e72866d2527e",
   "metadata": {},
   "outputs": [],
   "source": [
    "# specify an optimizer\n",
    "optimizer = torch.optim.SGD([W1, b1, W2, b2, W3, b3, W4, b4], lr=lr)"
   ]
  },
  {
   "cell_type": "code",
   "execution_count": null,
   "id": "265f8898-5771-493f-ad5a-9ac70d46cc17",
   "metadata": {},
   "outputs": [],
   "source": [
    "optimizer.step()"
   ]
  },
  {
   "cell_type": "code",
   "execution_count": null,
   "id": "08946635-4774-449d-a39a-e037ae5c6271",
   "metadata": {},
   "outputs": [],
   "source": [
    "print('the weight of W2 after updation:')\n",
    "print(W2)"
   ]
  },
  {
   "cell_type": "code",
   "execution_count": null,
   "id": "4dd03875-3928-4b4a-8189-fe59bc11cc3f",
   "metadata": {},
   "outputs": [],
   "source": [
    "torch.eq(W2, expected_new_W2).all()"
   ]
  },
  {
   "cell_type": "code",
   "execution_count": null,
   "id": "9c086a11-182e-4ac4-be28-1e7cc10df53f",
   "metadata": {},
   "outputs": [],
   "source": []
  },
  {
   "cell_type": "code",
   "execution_count": null,
   "id": "0e0b3e50-45d2-4c3e-b583-5a0e6bc0be8c",
   "metadata": {},
   "outputs": [],
   "source": []
  },
  {
   "cell_type": "markdown",
   "id": "43bcadc9-fdcd-4403-a35a-759212f80f9b",
   "metadata": {},
   "source": [
    "# Pytorch Implementation of FFN"
   ]
  },
  {
   "cell_type": "markdown",
   "id": "afe56076-49bb-4ddb-b6d2-14640e544e25",
   "metadata": {},
   "source": [
    "## FFN Layer"
   ]
  },
  {
   "cell_type": "markdown",
   "id": "f1603daa-64e4-40cc-b12c-66c418c33496",
   "metadata": {},
   "source": [
    "```\n",
    "W1 = torch.randn((K, D), requires_grad=True)\n",
    "\n",
    "b1 = torch.randn((K, 1), requires_grad=True)\n",
    "\n",
    "def sigmoid(x):\n",
    "    ...\n",
    "```"
   ]
  },
  {
   "cell_type": "code",
   "execution_count": null,
   "id": "d2b1d781-95f9-4749-9c0c-506c65c5092e",
   "metadata": {},
   "outputs": [],
   "source": [
    "# define\n",
    "layer1 = torch.nn.Linear(in_features=D, out_features=K, bias=True)"
   ]
  },
  {
   "cell_type": "code",
   "execution_count": null,
   "id": "00c26f42-5f46-4540-b57d-b145b2073a78",
   "metadata": {},
   "outputs": [],
   "source": [
    "# input\n",
    "x = torch.randn((D,))"
   ]
  },
  {
   "cell_type": "markdown",
   "id": "e002c3c2-587d-490c-ac82-e691bf001608",
   "metadata": {},
   "source": [
    "```\n",
    "z1 = torch.matmul(W1, x) + b1\n",
    "a1 = sigmoid(z1)\n",
    "```"
   ]
  },
  {
   "cell_type": "code",
   "execution_count": null,
   "id": "6d8ab9f2-a348-4741-a891-b784b9707a2a",
   "metadata": {},
   "outputs": [],
   "source": [
    "# forward\n",
    "z1 = layer1(x)\n",
    "a1 = torch.nn.functional.sigmoid(z1)"
   ]
  },
  {
   "cell_type": "code",
   "execution_count": null,
   "id": "7a581b87-d623-4d16-aaf0-abd1282b2740",
   "metadata": {},
   "outputs": [],
   "source": []
  },
  {
   "cell_type": "markdown",
   "id": "437c3cf5-2fd7-4ad6-bc04-71adb112cc2a",
   "metadata": {},
   "source": [
    "## Neural Network"
   ]
  },
  {
   "cell_type": "code",
   "execution_count": null,
   "id": "ef2ee2c6-9679-4a9b-a6bb-ecb1459aa1e4",
   "metadata": {},
   "outputs": [],
   "source": [
    "class neural_network(torch.nn.Module):\n",
    "    def __init__(self, D, K):\n",
    "        super(neural_network, self).__init__()\n",
    "        self.layer1 = torch.nn.Linear(in_features=D, out_features=K, bias=True)\n",
    "        self.layer2 = torch.nn.Linear(in_features=K, out_features=K, bias=True)\n",
    "        self.layer3 = torch.nn.Linear(in_features=K, out_features=K, bias=True)\n",
    "        self.layer4 = torch.nn.Linear(in_features=K, out_features=1, bias=True)\n",
    "\n",
    "    def forward(self, x):\n",
    "        # the first layer\n",
    "        z1 = self.layer1(x)\n",
    "        a1 = torch.nn.functional.sigmoid(z1)\n",
    "        \n",
    "        # the second layer\n",
    "        z2 = self.layer2(a1)\n",
    "        a2 = torch.nn.functional.sigmoid(z2)\n",
    "        \n",
    "        # the third layer\n",
    "        z3 = self.layer3(a2)\n",
    "        a3 = torch.nn.functional.sigmoid(z3)\n",
    "        \n",
    "        # the fourth layer\n",
    "        z4 = self.layer4(a3)\n",
    "        a4 = torch.nn.functional.sigmoid(z4)\n",
    "        return a4"
   ]
  },
  {
   "cell_type": "code",
   "execution_count": null,
   "id": "1cd3931a-0fe3-4cd4-aaaf-144c933a6403",
   "metadata": {},
   "outputs": [],
   "source": [
    "# specify the network and the optimizer\n",
    "network = neural_network(D, K)\n",
    "\n",
    "optimizer = torch.optim.SGD(network.parameters(), lr=lr)"
   ]
  },
  {
   "cell_type": "code",
   "execution_count": null,
   "id": "1d334b48-dc28-48e1-9be7-2eebe797eb54",
   "metadata": {},
   "outputs": [],
   "source": []
  },
  {
   "cell_type": "code",
   "execution_count": null,
   "id": "a44f791a-1a89-48f2-9aa0-45a8665e8a28",
   "metadata": {},
   "outputs": [],
   "source": [
    "# input\n",
    "x = torch.randn((D,))\n",
    "\n",
    "# ground truth\n",
    "y_ground = torch.randn((1,))"
   ]
  },
  {
   "cell_type": "code",
   "execution_count": null,
   "id": "1fce8b18-db15-42b7-97d4-ed6b29780128",
   "metadata": {},
   "outputs": [],
   "source": [
    "# forward\n",
    "y_pred = network(x)"
   ]
  },
  {
   "cell_type": "code",
   "execution_count": null,
   "id": "caed4964-ebde-4cf6-b745-c11c2db71b3d",
   "metadata": {},
   "outputs": [],
   "source": [
    "# calculate the loss\n",
    "J = (y_pred - y_ground) ** 2\n",
    "print(J)"
   ]
  },
  {
   "cell_type": "code",
   "execution_count": null,
   "id": "aaffca48-9ec0-4b74-a883-ab3e08472959",
   "metadata": {},
   "outputs": [],
   "source": [
    "# backward\n",
    "J.backward()"
   ]
  },
  {
   "cell_type": "code",
   "execution_count": null,
   "id": "91c29397-4a4b-413e-99a8-4065a84054f4",
   "metadata": {},
   "outputs": [],
   "source": [
    "# update the parameters\n",
    "optimizer.step()"
   ]
  },
  {
   "cell_type": "code",
   "execution_count": null,
   "id": "82d7c990-f0c4-4175-a7e1-1b5e43709b1d",
   "metadata": {},
   "outputs": [],
   "source": []
  },
  {
   "cell_type": "code",
   "execution_count": null,
   "id": "dead5734-148f-4b73-86a7-4cbd1a25c89f",
   "metadata": {},
   "outputs": [],
   "source": []
  },
  {
   "cell_type": "code",
   "execution_count": null,
   "id": "d14dc0c4-964c-43f2-951a-174a45db2e8f",
   "metadata": {},
   "outputs": [],
   "source": [
    "for x, y_ground in ...:\n",
    "    y_pred = network(x)          # forward\n",
    "    J = (y_pred - y_ground) ** 2 # calculate the loss\n",
    "    optimizer.zero_grad()        # clear the stored gradients!\n",
    "    J.backward()                 # backward\n",
    "    optimizer.step()             # update the parameters"
   ]
  },
  {
   "cell_type": "code",
   "execution_count": null,
   "id": "f46b0a23-c140-4c47-aee7-5f737292c6ad",
   "metadata": {},
   "outputs": [],
   "source": [
    "[x.grad for x in network.parameters()]"
   ]
  },
  {
   "cell_type": "code",
   "execution_count": null,
   "id": "23cb7574-51d9-4001-bcea-1b95373ec300",
   "metadata": {},
   "outputs": [],
   "source": [
    "optimizer.zero_grad()"
   ]
  },
  {
   "cell_type": "code",
   "execution_count": null,
   "id": "2f215425-d060-4250-89b4-e025f06395e9",
   "metadata": {},
   "outputs": [],
   "source": [
    "[x.grad for x in network.parameters()]"
   ]
  },
  {
   "cell_type": "code",
   "execution_count": null,
   "id": "0b3f36a8-b4d5-447f-9a3c-6c3b3ba3146c",
   "metadata": {},
   "outputs": [],
   "source": []
  },
  {
   "cell_type": "code",
   "execution_count": null,
   "id": "4baa4daf-708c-4abc-819d-23cc459d65c5",
   "metadata": {},
   "outputs": [],
   "source": []
  }
 ],
 "metadata": {
  "kernelspec": {
   "display_name": "py10",
   "language": "python",
   "name": "py10"
  },
  "language_info": {
   "codemirror_mode": {
    "name": "ipython",
    "version": 3
   },
   "file_extension": ".py",
   "mimetype": "text/x-python",
   "name": "python",
   "nbconvert_exporter": "python",
   "pygments_lexer": "ipython3",
   "version": "3.10.13"
  }
 },
 "nbformat": 4,
 "nbformat_minor": 5
}
